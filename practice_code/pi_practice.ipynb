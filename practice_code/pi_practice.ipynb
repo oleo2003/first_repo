{
 "cells": [
  {
   "cell_type": "markdown",
   "id": "4261ace6-5442-49dd-aef2-40932ac6ab74",
   "metadata": {},
   "source": [
    "This is the QR code that professor Roginek provided to check our repository to GitHub\n",
    "area = pi*(radius**2)\n",
    "print(area)\n",
    "radius = radius + 1\n",
    "area = pi*(radius**2)\n",
    "print(area)\n",
    "\n",
    "Spyder can autocomplete names for you\n",
    "start typing a variable name defined in your program and hit tab \n",
    "before you finish typing -- try it below"
   ]
  },
  {
   "cell_type": "markdown",
   "id": "d683965d-c022-46b7-9ead-f446e40bea55",
   "metadata": {},
   "source": [
    "Assign your variables: pi, radius\n",
    "then calculate the area of a circle using the radius and pi: area = pi*(radius**2)\n",
    "print the output"
   ]
  },
  {
   "cell_type": "code",
   "execution_count": null,
   "id": "ebeb08d8-a616-47d9-bf71-e7848b89eec0",
   "metadata": {},
   "outputs": [],
   "source": [
    "pi = 3.14159\n",
    "radius = 2.2\n",
    "area = pi*(radius**2)\n",
    "print(area)"
   ]
  },
  {
   "cell_type": "markdown",
   "id": "9dedad9e-1b99-4840-ab15-41b9d0237c49",
   "metadata": {},
   "source": [
    "rebind the variables for radius to be the previous value plus 1. \n",
    "Try to reprint area. What happens? No change because we haven't recalculated area with the new radius.\n",
    "Now, redothe area calculation:"
   ]
  },
  {
   "cell_type": "code",
   "execution_count": null,
   "id": "dc020f1d-e0df-455c-9535-92757b12b0ea",
   "metadata": {},
   "outputs": [],
   "source": [
    "radius = radius + 1\n",
    "print(area)     # area doesn't change\n",
    "area = pi*(radius**2)\n",
    "print(area)"
   ]
  },
  {
   "cell_type": "markdown",
   "id": "d17355a7-a535-455c-b103-c30ae542d3ff",
   "metadata": {},
   "source": [
    "practice defining a variable"
   ]
  },
  {
   "cell_type": "code",
   "execution_count": null,
   "id": "83f253ac-4d24-4367-8796-9bcc9f0f2d9e",
   "metadata": {},
   "outputs": [],
   "source": [
    "a_very_long_variable_name_dont_name_them_this_long_pls = 0"
   ]
  }
 ],
 "metadata": {
  "kernelspec": {
   "display_name": "Python 3 (ipykernel)",
   "language": "python",
   "name": "python3"
  },
  "language_info": {
   "codemirror_mode": {
    "name": "ipython",
    "version": 3
   },
   "file_extension": ".py",
   "mimetype": "text/x-python",
   "name": "python",
   "nbconvert_exporter": "python",
   "pygments_lexer": "ipython3",
   "version": "3.13.5"
  }
 },
 "nbformat": 4,
 "nbformat_minor": 5
}
